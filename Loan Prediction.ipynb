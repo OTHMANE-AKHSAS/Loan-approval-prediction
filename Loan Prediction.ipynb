{
 "cells": [
  {
   "cell_type": "code",
   "execution_count": 21,
   "source": [
    "import pandas as pd\r\n",
    "\r\n",
    "data = pd.read_csv(\"loan dataset.csv\")\r\n",
    "data_encoded = pd.get_dummies(data,drop_first=True)\r\n",
    "data_encoded.head()"
   ],
   "outputs": [
    {
     "output_type": "execute_result",
     "data": {
      "text/html": [
       "<div>\n",
       "<style scoped>\n",
       "    .dataframe tbody tr th:only-of-type {\n",
       "        vertical-align: middle;\n",
       "    }\n",
       "\n",
       "    .dataframe tbody tr th {\n",
       "        vertical-align: top;\n",
       "    }\n",
       "\n",
       "    .dataframe thead th {\n",
       "        text-align: right;\n",
       "    }\n",
       "</style>\n",
       "<table border=\"1\" class=\"dataframe\">\n",
       "  <thead>\n",
       "    <tr style=\"text-align: right;\">\n",
       "      <th></th>\n",
       "      <th>ApplicantIncome</th>\n",
       "      <th>CoapplicantIncome</th>\n",
       "      <th>LoanAmount</th>\n",
       "      <th>Loan_Amount_Term</th>\n",
       "      <th>Credit_History</th>\n",
       "      <th>Loan_ID_LP001003</th>\n",
       "      <th>Loan_ID_LP001005</th>\n",
       "      <th>Loan_ID_LP001006</th>\n",
       "      <th>Loan_ID_LP001008</th>\n",
       "      <th>Loan_ID_LP001011</th>\n",
       "      <th>...</th>\n",
       "      <th>Gender_Male</th>\n",
       "      <th>Married_Yes</th>\n",
       "      <th>Dependents_1</th>\n",
       "      <th>Dependents_2</th>\n",
       "      <th>Dependents_3+</th>\n",
       "      <th>Education_Not Graduate</th>\n",
       "      <th>Self_Employed_Yes</th>\n",
       "      <th>Property_Area_Semiurban</th>\n",
       "      <th>Property_Area_Urban</th>\n",
       "      <th>Loan_Status_Y</th>\n",
       "    </tr>\n",
       "  </thead>\n",
       "  <tbody>\n",
       "    <tr>\n",
       "      <th>0</th>\n",
       "      <td>5849</td>\n",
       "      <td>0.0</td>\n",
       "      <td>NaN</td>\n",
       "      <td>360.0</td>\n",
       "      <td>1.0</td>\n",
       "      <td>0</td>\n",
       "      <td>0</td>\n",
       "      <td>0</td>\n",
       "      <td>0</td>\n",
       "      <td>0</td>\n",
       "      <td>...</td>\n",
       "      <td>1</td>\n",
       "      <td>0</td>\n",
       "      <td>0</td>\n",
       "      <td>0</td>\n",
       "      <td>0</td>\n",
       "      <td>0</td>\n",
       "      <td>0</td>\n",
       "      <td>0</td>\n",
       "      <td>1</td>\n",
       "      <td>1</td>\n",
       "    </tr>\n",
       "    <tr>\n",
       "      <th>1</th>\n",
       "      <td>4583</td>\n",
       "      <td>1508.0</td>\n",
       "      <td>128.0</td>\n",
       "      <td>360.0</td>\n",
       "      <td>1.0</td>\n",
       "      <td>1</td>\n",
       "      <td>0</td>\n",
       "      <td>0</td>\n",
       "      <td>0</td>\n",
       "      <td>0</td>\n",
       "      <td>...</td>\n",
       "      <td>1</td>\n",
       "      <td>1</td>\n",
       "      <td>1</td>\n",
       "      <td>0</td>\n",
       "      <td>0</td>\n",
       "      <td>0</td>\n",
       "      <td>0</td>\n",
       "      <td>0</td>\n",
       "      <td>0</td>\n",
       "      <td>0</td>\n",
       "    </tr>\n",
       "    <tr>\n",
       "      <th>2</th>\n",
       "      <td>3000</td>\n",
       "      <td>0.0</td>\n",
       "      <td>66.0</td>\n",
       "      <td>360.0</td>\n",
       "      <td>1.0</td>\n",
       "      <td>0</td>\n",
       "      <td>1</td>\n",
       "      <td>0</td>\n",
       "      <td>0</td>\n",
       "      <td>0</td>\n",
       "      <td>...</td>\n",
       "      <td>1</td>\n",
       "      <td>1</td>\n",
       "      <td>0</td>\n",
       "      <td>0</td>\n",
       "      <td>0</td>\n",
       "      <td>0</td>\n",
       "      <td>1</td>\n",
       "      <td>0</td>\n",
       "      <td>1</td>\n",
       "      <td>1</td>\n",
       "    </tr>\n",
       "    <tr>\n",
       "      <th>3</th>\n",
       "      <td>2583</td>\n",
       "      <td>2358.0</td>\n",
       "      <td>120.0</td>\n",
       "      <td>360.0</td>\n",
       "      <td>1.0</td>\n",
       "      <td>0</td>\n",
       "      <td>0</td>\n",
       "      <td>1</td>\n",
       "      <td>0</td>\n",
       "      <td>0</td>\n",
       "      <td>...</td>\n",
       "      <td>1</td>\n",
       "      <td>1</td>\n",
       "      <td>0</td>\n",
       "      <td>0</td>\n",
       "      <td>0</td>\n",
       "      <td>1</td>\n",
       "      <td>0</td>\n",
       "      <td>0</td>\n",
       "      <td>1</td>\n",
       "      <td>1</td>\n",
       "    </tr>\n",
       "    <tr>\n",
       "      <th>4</th>\n",
       "      <td>6000</td>\n",
       "      <td>0.0</td>\n",
       "      <td>141.0</td>\n",
       "      <td>360.0</td>\n",
       "      <td>1.0</td>\n",
       "      <td>0</td>\n",
       "      <td>0</td>\n",
       "      <td>0</td>\n",
       "      <td>1</td>\n",
       "      <td>0</td>\n",
       "      <td>...</td>\n",
       "      <td>1</td>\n",
       "      <td>0</td>\n",
       "      <td>0</td>\n",
       "      <td>0</td>\n",
       "      <td>0</td>\n",
       "      <td>0</td>\n",
       "      <td>0</td>\n",
       "      <td>0</td>\n",
       "      <td>1</td>\n",
       "      <td>1</td>\n",
       "    </tr>\n",
       "  </tbody>\n",
       "</table>\n",
       "<p>5 rows × 628 columns</p>\n",
       "</div>"
      ],
      "text/plain": [
       "   ApplicantIncome  CoapplicantIncome  LoanAmount  Loan_Amount_Term  \\\n",
       "0             5849                0.0         NaN             360.0   \n",
       "1             4583             1508.0       128.0             360.0   \n",
       "2             3000                0.0        66.0             360.0   \n",
       "3             2583             2358.0       120.0             360.0   \n",
       "4             6000                0.0       141.0             360.0   \n",
       "\n",
       "   Credit_History  Loan_ID_LP001003  Loan_ID_LP001005  Loan_ID_LP001006  \\\n",
       "0             1.0                 0                 0                 0   \n",
       "1             1.0                 1                 0                 0   \n",
       "2             1.0                 0                 1                 0   \n",
       "3             1.0                 0                 0                 1   \n",
       "4             1.0                 0                 0                 0   \n",
       "\n",
       "   Loan_ID_LP001008  Loan_ID_LP001011  ...  Gender_Male  Married_Yes  \\\n",
       "0                 0                 0  ...            1            0   \n",
       "1                 0                 0  ...            1            1   \n",
       "2                 0                 0  ...            1            1   \n",
       "3                 0                 0  ...            1            1   \n",
       "4                 1                 0  ...            1            0   \n",
       "\n",
       "   Dependents_1  Dependents_2  Dependents_3+  Education_Not Graduate  \\\n",
       "0             0             0              0                       0   \n",
       "1             1             0              0                       0   \n",
       "2             0             0              0                       0   \n",
       "3             0             0              0                       1   \n",
       "4             0             0              0                       0   \n",
       "\n",
       "   Self_Employed_Yes  Property_Area_Semiurban  Property_Area_Urban  \\\n",
       "0                  0                        0                    1   \n",
       "1                  0                        0                    0   \n",
       "2                  1                        0                    1   \n",
       "3                  0                        0                    1   \n",
       "4                  0                        0                    1   \n",
       "\n",
       "   Loan_Status_Y  \n",
       "0              1  \n",
       "1              0  \n",
       "2              1  \n",
       "3              1  \n",
       "4              1  \n",
       "\n",
       "[5 rows x 628 columns]"
      ]
     },
     "metadata": {},
     "execution_count": 21
    }
   ],
   "metadata": {}
  },
  {
   "cell_type": "code",
   "execution_count": 22,
   "source": [
    "data.describe().apply(lambda s: s.apply('{0:.0f}'.format))"
   ],
   "outputs": [
    {
     "output_type": "execute_result",
     "data": {
      "text/html": [
       "<div>\n",
       "<style scoped>\n",
       "    .dataframe tbody tr th:only-of-type {\n",
       "        vertical-align: middle;\n",
       "    }\n",
       "\n",
       "    .dataframe tbody tr th {\n",
       "        vertical-align: top;\n",
       "    }\n",
       "\n",
       "    .dataframe thead th {\n",
       "        text-align: right;\n",
       "    }\n",
       "</style>\n",
       "<table border=\"1\" class=\"dataframe\">\n",
       "  <thead>\n",
       "    <tr style=\"text-align: right;\">\n",
       "      <th></th>\n",
       "      <th>ApplicantIncome</th>\n",
       "      <th>CoapplicantIncome</th>\n",
       "      <th>LoanAmount</th>\n",
       "      <th>Loan_Amount_Term</th>\n",
       "      <th>Credit_History</th>\n",
       "    </tr>\n",
       "  </thead>\n",
       "  <tbody>\n",
       "    <tr>\n",
       "      <th>count</th>\n",
       "      <td>614</td>\n",
       "      <td>614</td>\n",
       "      <td>592</td>\n",
       "      <td>600</td>\n",
       "      <td>564</td>\n",
       "    </tr>\n",
       "    <tr>\n",
       "      <th>mean</th>\n",
       "      <td>5403</td>\n",
       "      <td>1621</td>\n",
       "      <td>146</td>\n",
       "      <td>342</td>\n",
       "      <td>1</td>\n",
       "    </tr>\n",
       "    <tr>\n",
       "      <th>std</th>\n",
       "      <td>6109</td>\n",
       "      <td>2926</td>\n",
       "      <td>86</td>\n",
       "      <td>65</td>\n",
       "      <td>0</td>\n",
       "    </tr>\n",
       "    <tr>\n",
       "      <th>min</th>\n",
       "      <td>150</td>\n",
       "      <td>0</td>\n",
       "      <td>9</td>\n",
       "      <td>12</td>\n",
       "      <td>0</td>\n",
       "    </tr>\n",
       "    <tr>\n",
       "      <th>25%</th>\n",
       "      <td>2878</td>\n",
       "      <td>0</td>\n",
       "      <td>100</td>\n",
       "      <td>360</td>\n",
       "      <td>1</td>\n",
       "    </tr>\n",
       "    <tr>\n",
       "      <th>50%</th>\n",
       "      <td>3812</td>\n",
       "      <td>1188</td>\n",
       "      <td>128</td>\n",
       "      <td>360</td>\n",
       "      <td>1</td>\n",
       "    </tr>\n",
       "    <tr>\n",
       "      <th>75%</th>\n",
       "      <td>5795</td>\n",
       "      <td>2297</td>\n",
       "      <td>168</td>\n",
       "      <td>360</td>\n",
       "      <td>1</td>\n",
       "    </tr>\n",
       "    <tr>\n",
       "      <th>max</th>\n",
       "      <td>81000</td>\n",
       "      <td>41667</td>\n",
       "      <td>700</td>\n",
       "      <td>480</td>\n",
       "      <td>1</td>\n",
       "    </tr>\n",
       "  </tbody>\n",
       "</table>\n",
       "</div>"
      ],
      "text/plain": [
       "      ApplicantIncome CoapplicantIncome LoanAmount Loan_Amount_Term  \\\n",
       "count             614               614        592              600   \n",
       "mean             5403              1621        146              342   \n",
       "std              6109              2926         86               65   \n",
       "min               150                 0          9               12   \n",
       "25%              2878                 0        100              360   \n",
       "50%              3812              1188        128              360   \n",
       "75%              5795              2297        168              360   \n",
       "max             81000             41667        700              480   \n",
       "\n",
       "      Credit_History  \n",
       "count            564  \n",
       "mean               1  \n",
       "std                0  \n",
       "min                0  \n",
       "25%                1  \n",
       "50%                1  \n",
       "75%                1  \n",
       "max                1  "
      ]
     },
     "metadata": {},
     "execution_count": 22
    }
   ],
   "metadata": {}
  },
  {
   "cell_type": "code",
   "execution_count": 23,
   "source": [
    "data.describe(include=object)"
   ],
   "outputs": [
    {
     "output_type": "execute_result",
     "data": {
      "text/html": [
       "<div>\n",
       "<style scoped>\n",
       "    .dataframe tbody tr th:only-of-type {\n",
       "        vertical-align: middle;\n",
       "    }\n",
       "\n",
       "    .dataframe tbody tr th {\n",
       "        vertical-align: top;\n",
       "    }\n",
       "\n",
       "    .dataframe thead th {\n",
       "        text-align: right;\n",
       "    }\n",
       "</style>\n",
       "<table border=\"1\" class=\"dataframe\">\n",
       "  <thead>\n",
       "    <tr style=\"text-align: right;\">\n",
       "      <th></th>\n",
       "      <th>Loan_ID</th>\n",
       "      <th>Gender</th>\n",
       "      <th>Married</th>\n",
       "      <th>Dependents</th>\n",
       "      <th>Education</th>\n",
       "      <th>Self_Employed</th>\n",
       "      <th>Property_Area</th>\n",
       "      <th>Loan_Status</th>\n",
       "    </tr>\n",
       "  </thead>\n",
       "  <tbody>\n",
       "    <tr>\n",
       "      <th>count</th>\n",
       "      <td>614</td>\n",
       "      <td>601</td>\n",
       "      <td>611</td>\n",
       "      <td>599</td>\n",
       "      <td>614</td>\n",
       "      <td>582</td>\n",
       "      <td>614</td>\n",
       "      <td>614</td>\n",
       "    </tr>\n",
       "    <tr>\n",
       "      <th>unique</th>\n",
       "      <td>614</td>\n",
       "      <td>2</td>\n",
       "      <td>2</td>\n",
       "      <td>4</td>\n",
       "      <td>2</td>\n",
       "      <td>2</td>\n",
       "      <td>3</td>\n",
       "      <td>2</td>\n",
       "    </tr>\n",
       "    <tr>\n",
       "      <th>top</th>\n",
       "      <td>LP002473</td>\n",
       "      <td>Male</td>\n",
       "      <td>Yes</td>\n",
       "      <td>0</td>\n",
       "      <td>Graduate</td>\n",
       "      <td>No</td>\n",
       "      <td>Semiurban</td>\n",
       "      <td>Y</td>\n",
       "    </tr>\n",
       "    <tr>\n",
       "      <th>freq</th>\n",
       "      <td>1</td>\n",
       "      <td>489</td>\n",
       "      <td>398</td>\n",
       "      <td>345</td>\n",
       "      <td>480</td>\n",
       "      <td>500</td>\n",
       "      <td>233</td>\n",
       "      <td>422</td>\n",
       "    </tr>\n",
       "  </tbody>\n",
       "</table>\n",
       "</div>"
      ],
      "text/plain": [
       "         Loan_ID Gender Married Dependents Education Self_Employed  \\\n",
       "count        614    601     611        599       614           582   \n",
       "unique       614      2       2          4         2             2   \n",
       "top     LP002473   Male     Yes          0  Graduate            No   \n",
       "freq           1    489     398        345       480           500   \n",
       "\n",
       "       Property_Area Loan_Status  \n",
       "count            614         614  \n",
       "unique             3           2  \n",
       "top        Semiurban           Y  \n",
       "freq             233         422  "
      ]
     },
     "metadata": {},
     "execution_count": 23
    }
   ],
   "metadata": {}
  },
  {
   "cell_type": "code",
   "execution_count": 24,
   "source": [
    "from sklearn.model_selection import train_test_split\r\n",
    "from sklearn.impute import SimpleImputer\r\n",
    "import numpy as np\r\n",
    "# split features and labels\r\n",
    "features = data_encoded.drop(columns='Loan_Status_Y')\r\n",
    "# features = np.array(features)\r\n",
    "labels = data_encoded['Loan_Status_Y']\r\n",
    "# labels = np.array(labels)\r\n",
    "\r\n",
    "\r\n",
    "train_f, test_f, train_L, test_L = train_test_split(features,labels, test_size=0.25)\r\n",
    "# Imputing missing values\r\n",
    "imp = SimpleImputer(strategy='mean')\r\n",
    "imp_train = imp.fit(train_f)\r\n",
    "train_f = imp_train.transform(train_f)\r\n",
    "test_f = imp_train.transform(test_f)\r\n",
    "\r\n",
    "print(\"training data: \",len(train_L))\r\n",
    "print(\"testing data: \",len(test_L))"
   ],
   "outputs": [
    {
     "output_type": "stream",
     "name": "stdout",
     "text": [
      "training data:  460\n",
      "testing data:  154\n"
     ]
    }
   ],
   "metadata": {}
  },
  {
   "cell_type": "markdown",
   "source": [
    "# Model : Decision Tree Classifier"
   ],
   "metadata": {}
  },
  {
   "cell_type": "code",
   "execution_count": 25,
   "source": [
    "from sklearn.tree import DecisionTreeClassifier\r\n",
    "from sklearn.model_selection import cross_val_score\r\n",
    "from sklearn.metrics import accuracy_score,f1_score,precision_score,recall_score,confusion_matrix\r\n",
    "import seaborn as sns\r\n",
    "\r\n",
    "tree_clf = DecisionTreeClassifier(max_depth=3)\r\n",
    "tree_clf.fit(train_f,train_L)\r\n",
    "y_pred = tree_clf.predict(train_f)\r\n",
    "print(\"Training Data Set Accuracy: \", accuracy_score(train_L,y_pred))\r\n",
    "print(\"Training Data F1 Score \", f1_score(train_L,y_pred))\r\n",
    "print ('Training Precision:', precision_score(train_L,y_pred))\r\n",
    "print ('Training Recall:', recall_score(train_L,y_pred))\r\n",
    "\r\n",
    "test_pred = tree_clf.predict(test_f)\r\n",
    "print(\"Testing Data Set Accuracy: \", accuracy_score(test_L,test_pred))\r\n",
    "print(\"Testing Data F1 Score \", f1_score(test_L,test_pred))\r\n",
    "print ('Testing Precision:', precision_score(test_L,test_pred))\r\n",
    "print ('Testing Recall:', recall_score(test_L,test_pred))\r\n",
    "\r\n",
    "cf_matrix = confusion_matrix(test_L, test_pred)\r\n",
    "sns.heatmap(cf_matrix, annot=True)"
   ],
   "outputs": [
    {
     "output_type": "stream",
     "name": "stdout",
     "text": [
      "Training Data Set Accuracy:  0.8065217391304348\n",
      "Training Data F1 Score  0.8730385164051355\n",
      "Training Precision: 0.7786259541984732\n",
      "Training Recall: 0.9935064935064936\n",
      "Testing Data Set Accuracy:  0.8506493506493507\n",
      "Testing Data F1 Score  0.9053497942386831\n",
      "Testing Precision: 0.8527131782945736\n",
      "Testing Recall: 0.9649122807017544\n"
     ]
    },
    {
     "output_type": "execute_result",
     "data": {
      "text/plain": [
       "<AxesSubplot:>"
      ]
     },
     "metadata": {},
     "execution_count": 25
    },
    {
     "output_type": "display_data",
     "data": {
      "image/png": "[encoded data removed]",
      "text/plain": [
       "<Figure size 432x288 with 2 Axes>"
      ]
     },
     "metadata": {
      "needs_background": "light"
     }
    }
   ],
   "metadata": {}
  },
  {
   "cell_type": "markdown",
   "source": [
    "#### Visulazing Decision Tree with Max Depth = 3"
   ],
   "metadata": {}
  },
  {
   "cell_type": "code",
   "execution_count": 26,
   "source": [
    "import graphviz\r\n",
    "from sklearn import tree\r\n",
    "\r\n",
    "features_df= data.drop(columns='Loan_Status')\r\n",
    "\r\n",
    "tree_clf = tree.DecisionTreeClassifier(max_depth = 3)\r\n",
    "tree_clf.fit(train_f,train_L)\r\n",
    "dot_data = tree.export_graphviz(tree_clf,feature_names = features.columns.tolist())\r\n",
    "graph = graphviz.Source(dot_data)\r\n",
    "graph"
   ],
   "outputs": [
    {
     "output_type": "execute_result",
     "data": {
      "image/svg+xml": "<?xml version=\"1.0\" encoding=\"UTF-8\" standalone=\"no\"?>\r\n<!DOCTYPE svg PUBLIC \"-//W3C//DTD SVG 1.1//EN\"\r\n \"http://www.w3.org/Graphics/SVG/1.1/DTD/svg11.dtd\">\r\n<!-- Generated by graphviz version 2.38.0 (20140413.2041)\r\n -->\r\n<!-- Title: Tree Pages: 1 -->\r\n<svg width=\"640pt\" height=\"373pt\"\r\n viewBox=\"0.00 0.00 640.00 373.00\" xmlns=\"http://www.w3.org/2000/svg\" xmlns:xlink=\"http://www.w3.org/1999/xlink\">\r\n<g id=\"graph0\" class=\"graph\" transform=\"scale(1 1) rotate(0) translate(4 369)\">\r\n<title>Tree</title>\r\n<polygon fill=\"white\" stroke=\"none\" points=\"-4,4 -4,-369 636,-369 636,4 -4,4\"/>\r\n<!-- 0 -->\r\n<g id=\"node1\" class=\"node\"><title>0</title>\r\n<polygon fill=\"none\" stroke=\"black\" points=\"405,-365 250,-365 250,-297 405,-297 405,-365\"/>\r\n<text text-anchor=\"middle\" x=\"327.5\" y=\"-349.8\" font-family=\"Times New Roman,serif\" font-size=\"14.00\">Credit_History &lt;= 0.423</text>\r\n<text text-anchor=\"middle\" x=\"327.5\" y=\"-334.8\" font-family=\"Times New Roman,serif\" font-size=\"14.00\">gini = 0.442</text>\r\n<text text-anchor=\"middle\" x=\"327.5\" y=\"-319.8\" font-family=\"Times New Roman,serif\" font-size=\"14.00\">samples = 460</text>\r\n<text text-anchor=\"middle\" x=\"327.5\" y=\"-304.8\" font-family=\"Times New Roman,serif\" font-size=\"14.00\">value = [152, 308]</text>\r\n</g>\r\n<!-- 1 -->\r\n<g id=\"node2\" class=\"node\"><title>1</title>\r\n<polygon fill=\"none\" stroke=\"black\" points=\"315,-261 142,-261 142,-193 315,-193 315,-261\"/>\r\n<text text-anchor=\"middle\" x=\"228.5\" y=\"-245.8\" font-family=\"Times New Roman,serif\" font-size=\"14.00\">Loan_ID_LP001882 &lt;= 0.5</text>\r\n<text text-anchor=\"middle\" x=\"228.5\" y=\"-230.8\" font-family=\"Times New Roman,serif\" font-size=\"14.00\">gini = 0.114</text>\r\n<text text-anchor=\"middle\" x=\"228.5\" y=\"-215.8\" font-family=\"Times New Roman,serif\" font-size=\"14.00\">samples = 66</text>\r\n<text text-anchor=\"middle\" x=\"228.5\" y=\"-200.8\" font-family=\"Times New Roman,serif\" font-size=\"14.00\">value = [62, 4]</text>\r\n</g>\r\n<!-- 0&#45;&gt;1 -->\r\n<g id=\"edge1\" class=\"edge\"><title>0&#45;&gt;1</title>\r\n<path fill=\"none\" stroke=\"black\" d=\"M295.358,-296.884C286.626,-287.887 277.069,-278.041 267.982,-268.678\"/>\r\n<polygon fill=\"black\" stroke=\"black\" points=\"270.296,-266.038 260.82,-261.299 265.273,-270.913 270.296,-266.038\"/>\r\n<text text-anchor=\"middle\" x=\"260.447\" y=\"-282.597\" font-family=\"Times New Roman,serif\" font-size=\"14.00\">True</text>\r\n</g>\r\n<!-- 6 -->\r\n<g id=\"node7\" class=\"node\"><title>6</title>\r\n<polygon fill=\"none\" stroke=\"black\" points=\"521.5,-261 333.5,-261 333.5,-193 521.5,-193 521.5,-261\"/>\r\n<text text-anchor=\"middle\" x=\"427.5\" y=\"-245.8\" font-family=\"Times New Roman,serif\" font-size=\"14.00\">CoapplicantIncome &lt;= 9650.5</text>\r\n<text text-anchor=\"middle\" x=\"427.5\" y=\"-230.8\" font-family=\"Times New Roman,serif\" font-size=\"14.00\">gini = 0.352</text>\r\n<text text-anchor=\"middle\" x=\"427.5\" y=\"-215.8\" font-family=\"Times New Roman,serif\" font-size=\"14.00\">samples = 394</text>\r\n<text text-anchor=\"middle\" x=\"427.5\" y=\"-200.8\" font-family=\"Times New Roman,serif\" font-size=\"14.00\">value = [90, 304]</text>\r\n</g>\r\n<!-- 0&#45;&gt;6 -->\r\n<g id=\"edge6\" class=\"edge\"><title>0&#45;&gt;6</title>\r\n<path fill=\"none\" stroke=\"black\" d=\"M359.967,-296.884C368.787,-287.887 378.441,-278.041 387.619,-268.678\"/>\r\n<polygon fill=\"black\" stroke=\"black\" points=\"390.352,-270.89 394.854,-261.299 385.354,-265.99 390.352,-270.89\"/>\r\n<text text-anchor=\"middle\" x=\"395.101\" y=\"-282.598\" font-family=\"Times New Roman,serif\" font-size=\"14.00\">False</text>\r\n</g>\r\n<!-- 2 -->\r\n<g id=\"node3\" class=\"node\"><title>2</title>\r\n<polygon fill=\"none\" stroke=\"black\" points=\"173,-157 0,-157 0,-89 173,-89 173,-157\"/>\r\n<text text-anchor=\"middle\" x=\"86.5\" y=\"-141.8\" font-family=\"Times New Roman,serif\" font-size=\"14.00\">Loan_ID_LP001677 &lt;= 0.5</text>\r\n<text text-anchor=\"middle\" x=\"86.5\" y=\"-126.8\" font-family=\"Times New Roman,serif\" font-size=\"14.00\">gini = 0.088</text>\r\n<text text-anchor=\"middle\" x=\"86.5\" y=\"-111.8\" font-family=\"Times New Roman,serif\" font-size=\"14.00\">samples = 65</text>\r\n<text text-anchor=\"middle\" x=\"86.5\" y=\"-96.8\" font-family=\"Times New Roman,serif\" font-size=\"14.00\">value = [62, 3]</text>\r\n</g>\r\n<!-- 1&#45;&gt;2 -->\r\n<g id=\"edge2\" class=\"edge\"><title>1&#45;&gt;2</title>\r\n<path fill=\"none\" stroke=\"black\" d=\"M182.397,-192.884C169.252,-183.442 154.804,-173.064 141.2,-163.292\"/>\r\n<polygon fill=\"black\" stroke=\"black\" points=\"143.022,-160.291 132.858,-157.299 138.938,-165.976 143.022,-160.291\"/>\r\n</g>\r\n<!-- 5 -->\r\n<g id=\"node6\" class=\"node\"><title>5</title>\r\n<polygon fill=\"none\" stroke=\"black\" points=\"282,-149.5 191,-149.5 191,-96.5 282,-96.5 282,-149.5\"/>\r\n<text text-anchor=\"middle\" x=\"236.5\" y=\"-134.3\" font-family=\"Times New Roman,serif\" font-size=\"14.00\">gini = 0.0</text>\r\n<text text-anchor=\"middle\" x=\"236.5\" y=\"-119.3\" font-family=\"Times New Roman,serif\" font-size=\"14.00\">samples = 1</text>\r\n<text text-anchor=\"middle\" x=\"236.5\" y=\"-104.3\" font-family=\"Times New Roman,serif\" font-size=\"14.00\">value = [0, 1]</text>\r\n</g>\r\n<!-- 1&#45;&gt;5 -->\r\n<g id=\"edge5\" class=\"edge\"><title>1&#45;&gt;5</title>\r\n<path fill=\"none\" stroke=\"black\" d=\"M231.097,-192.884C231.934,-182.216 232.865,-170.352 233.714,-159.519\"/>\r\n<polygon fill=\"black\" stroke=\"black\" points=\"237.206,-159.763 234.498,-149.52 230.227,-159.216 237.206,-159.763\"/>\r\n</g>\r\n<!-- 3 -->\r\n<g id=\"node4\" class=\"node\"><title>3</title>\r\n<polygon fill=\"none\" stroke=\"black\" points=\"121.5,-53 23.5,-53 23.5,-0 121.5,-0 121.5,-53\"/>\r\n<text text-anchor=\"middle\" x=\"72.5\" y=\"-37.8\" font-family=\"Times New Roman,serif\" font-size=\"14.00\">gini = 0.061</text>\r\n<text text-anchor=\"middle\" x=\"72.5\" y=\"-22.8\" font-family=\"Times New Roman,serif\" font-size=\"14.00\">samples = 64</text>\r\n<text text-anchor=\"middle\" x=\"72.5\" y=\"-7.8\" font-family=\"Times New Roman,serif\" font-size=\"14.00\">value = [62, 2]</text>\r\n</g>\r\n<!-- 2&#45;&gt;3 -->\r\n<g id=\"edge3\" class=\"edge\"><title>2&#45;&gt;3</title>\r\n<path fill=\"none\" stroke=\"black\" d=\"M81.6035,-88.9485C80.3702,-80.6238 79.0409,-71.6509 77.7893,-63.2027\"/>\r\n<polygon fill=\"black\" stroke=\"black\" points=\"81.2406,-62.6158 76.3128,-53.2367 74.3162,-63.6417 81.2406,-62.6158\"/>\r\n</g>\r\n<!-- 4 -->\r\n<g id=\"node5\" class=\"node\"><title>4</title>\r\n<polygon fill=\"none\" stroke=\"black\" points=\"231,-53 140,-53 140,-0 231,-0 231,-53\"/>\r\n<text text-anchor=\"middle\" x=\"185.5\" y=\"-37.8\" font-family=\"Times New Roman,serif\" font-size=\"14.00\">gini = 0.0</text>\r\n<text text-anchor=\"middle\" x=\"185.5\" y=\"-22.8\" font-family=\"Times New Roman,serif\" font-size=\"14.00\">samples = 1</text>\r\n<text text-anchor=\"middle\" x=\"185.5\" y=\"-7.8\" font-family=\"Times New Roman,serif\" font-size=\"14.00\">value = [0, 1]</text>\r\n</g>\r\n<!-- 2&#45;&gt;4 -->\r\n<g id=\"edge4\" class=\"edge\"><title>2&#45;&gt;4</title>\r\n<path fill=\"none\" stroke=\"black\" d=\"M121.125,-88.9485C130.901,-79.6175 141.529,-69.4722 151.28,-60.1641\"/>\r\n<polygon fill=\"black\" stroke=\"black\" points=\"153.721,-62.6732 158.538,-53.2367 148.887,-57.6097 153.721,-62.6732\"/>\r\n</g>\r\n<!-- 7 -->\r\n<g id=\"node8\" class=\"node\"><title>7</title>\r\n<polygon fill=\"none\" stroke=\"black\" points=\"523,-157 316,-157 316,-89 523,-89 523,-157\"/>\r\n<text text-anchor=\"middle\" x=\"419.5\" y=\"-141.8\" font-family=\"Times New Roman,serif\" font-size=\"14.00\">Property_Area_Semiurban &lt;= 0.5</text>\r\n<text text-anchor=\"middle\" x=\"419.5\" y=\"-126.8\" font-family=\"Times New Roman,serif\" font-size=\"14.00\">gini = 0.346</text>\r\n<text text-anchor=\"middle\" x=\"419.5\" y=\"-111.8\" font-family=\"Times New Roman,serif\" font-size=\"14.00\">samples = 391</text>\r\n<text text-anchor=\"middle\" x=\"419.5\" y=\"-96.8\" font-family=\"Times New Roman,serif\" font-size=\"14.00\">value = [87, 304]</text>\r\n</g>\r\n<!-- 6&#45;&gt;7 -->\r\n<g id=\"edge7\" class=\"edge\"><title>6&#45;&gt;7</title>\r\n<path fill=\"none\" stroke=\"black\" d=\"M424.903,-192.884C424.267,-184.778 423.577,-175.982 422.91,-167.472\"/>\r\n<polygon fill=\"black\" stroke=\"black\" points=\"426.383,-166.995 422.112,-157.299 419.404,-167.542 426.383,-166.995\"/>\r\n</g>\r\n<!-- 10 -->\r\n<g id=\"node11\" class=\"node\"><title>10</title>\r\n<polygon fill=\"none\" stroke=\"black\" points=\"632,-149.5 541,-149.5 541,-96.5 632,-96.5 632,-149.5\"/>\r\n<text text-anchor=\"middle\" x=\"586.5\" y=\"-134.3\" font-family=\"Times New Roman,serif\" font-size=\"14.00\">gini = 0.0</text>\r\n<text text-anchor=\"middle\" x=\"586.5\" y=\"-119.3\" font-family=\"Times New Roman,serif\" font-size=\"14.00\">samples = 3</text>\r\n<text text-anchor=\"middle\" x=\"586.5\" y=\"-104.3\" font-family=\"Times New Roman,serif\" font-size=\"14.00\">value = [3, 0]</text>\r\n</g>\r\n<!-- 6&#45;&gt;10 -->\r\n<g id=\"edge10\" class=\"edge\"><title>6&#45;&gt;10</title>\r\n<path fill=\"none\" stroke=\"black\" d=\"M479.123,-192.884C498.067,-180.731 519.428,-167.027 538.081,-155.061\"/>\r\n<polygon fill=\"black\" stroke=\"black\" points=\"540.192,-157.865 546.719,-149.52 536.412,-151.974 540.192,-157.865\"/>\r\n</g>\r\n<!-- 8 -->\r\n<g id=\"node9\" class=\"node\"><title>8</title>\r\n<polygon fill=\"none\" stroke=\"black\" points=\"417,-53 306,-53 306,-0 417,-0 417,-53\"/>\r\n<text text-anchor=\"middle\" x=\"361.5\" y=\"-37.8\" font-family=\"Times New Roman,serif\" font-size=\"14.00\">gini = 0.393</text>\r\n<text text-anchor=\"middle\" x=\"361.5\" y=\"-22.8\" font-family=\"Times New Roman,serif\" font-size=\"14.00\">samples = 238</text>\r\n<text text-anchor=\"middle\" x=\"361.5\" y=\"-7.8\" font-family=\"Times New Roman,serif\" font-size=\"14.00\">value = [64, 174]</text>\r\n</g>\r\n<!-- 7&#45;&gt;8 -->\r\n<g id=\"edge8\" class=\"edge\"><title>7&#45;&gt;8</title>\r\n<path fill=\"none\" stroke=\"black\" d=\"M399.214,-88.9485C393.824,-80.1664 387.992,-70.6629 382.561,-61.815\"/>\r\n<polygon fill=\"black\" stroke=\"black\" points=\"385.51,-59.9287 377.296,-53.2367 379.544,-63.5903 385.51,-59.9287\"/>\r\n</g>\r\n<!-- 9 -->\r\n<g id=\"node10\" class=\"node\"><title>9</title>\r\n<polygon fill=\"none\" stroke=\"black\" points=\"546,-53 435,-53 435,-0 546,-0 546,-53\"/>\r\n<text text-anchor=\"middle\" x=\"490.5\" y=\"-37.8\" font-family=\"Times New Roman,serif\" font-size=\"14.00\">gini = 0.255</text>\r\n<text text-anchor=\"middle\" x=\"490.5\" y=\"-22.8\" font-family=\"Times New Roman,serif\" font-size=\"14.00\">samples = 153</text>\r\n<text text-anchor=\"middle\" x=\"490.5\" y=\"-7.8\" font-family=\"Times New Roman,serif\" font-size=\"14.00\">value = [23, 130]</text>\r\n</g>\r\n<!-- 7&#45;&gt;9 -->\r\n<g id=\"edge9\" class=\"edge\"><title>7&#45;&gt;9</title>\r\n<path fill=\"none\" stroke=\"black\" d=\"M444.332,-88.9485C451.068,-79.9834 458.368,-70.2666 465.133,-61.2629\"/>\r\n<polygon fill=\"black\" stroke=\"black\" points=\"467.955,-63.334 471.163,-53.2367 462.358,-59.1293 467.955,-63.334\"/>\r\n</g>\r\n</g>\r\n</svg>\r\n",
      "text/plain": [
       "<graphviz.files.Source at 0x1b2f04e8588>"
      ]
     },
     "metadata": {},
     "execution_count": 26
    }
   ],
   "metadata": {}
  },
  {
   "cell_type": "markdown",
   "source": [
    "# Model : Random Forest Classifier"
   ],
   "metadata": {}
  },
  {
   "cell_type": "code",
   "execution_count": 27,
   "source": [
    "from sklearn.ensemble import RandomForestClassifier\r\n",
    "\r\n",
    "rf = RandomForestClassifier(n_estimators=1000,max_depth=3,min_samples_leaf = 10)\r\n",
    "rf.fit(train_f,train_L)\r\n",
    "y_pred = rf.predict(train_f)\r\n",
    "print(\"Training Data Set Accuracy: \", accuracy_score(train_L,y_pred))\r\n",
    "print(\"Training Data F1 Score \", f1_score(train_L,y_pred))\r\n",
    "print ('Training Precision:', precision_score(train_L,y_pred))\r\n",
    "print ('Training Recall:', recall_score(train_L,y_pred))\r\n",
    "\r\n",
    "test_pred = rf.predict(test_f)\r\n",
    "print(\"Testing Data Set Accuracy: \", accuracy_score(test_L,test_pred))\r\n",
    "print(\"Testing Data F1 Score \", f1_score(test_L,test_pred))\r\n",
    "print ('Testing Precision:', precision_score(test_L,test_pred))\r\n",
    "print ('Testing Recall:', recall_score(test_L,test_pred))\r\n",
    "\r\n",
    "# Confusion matrix\r\n",
    "cf_matrix = confusion_matrix(test_L, test_pred)\r\n",
    "sns.heatmap(cf_matrix, annot=True)\r\n"
   ],
   "outputs": [
    {
     "output_type": "stream",
     "name": "stdout",
     "text": [
      "Training Data Set Accuracy:  0.6695652173913044\n",
      "Training Data F1 Score  0.8020833333333333\n",
      "Training Precision: 0.6695652173913044\n",
      "Training Recall: 1.0\n",
      "Testing Data Set Accuracy:  0.7402597402597403\n",
      "Testing Data F1 Score  0.8507462686567165\n",
      "Testing Precision: 0.7402597402597403\n",
      "Testing Recall: 1.0\n"
     ]
    },
    {
     "output_type": "execute_result",
     "data": {
      "text/plain": [
       "<AxesSubplot:>"
      ]
     },
     "metadata": {},
     "execution_count": 27
    },
    {
     "output_type": "display_data",
     "data": {
      "image/png": "[encoded data removed]",
      "text/plain": [
       "<Figure size 432x288 with 2 Axes>"
      ]
     },
     "metadata": {
      "needs_background": "light"
     }
    }
   ],
   "metadata": {}
  },
  {
   "cell_type": "markdown",
   "source": [
    "# Model : SVM"
   ],
   "metadata": {}
  },
  {
   "cell_type": "code",
   "execution_count": 28,
   "source": [
    "from sklearn.svm import SVC\r\n",
    "\r\n",
    "SVMm = SVC(kernel='poly', random_state = 1)\r\n",
    "\r\n",
    "SVMm.fit(train_f,train_L)\r\n",
    "y_pred_svm = SVMm.predict(train_f)\r\n",
    "print(\"Training Data Set Accuracy: \", accuracy_score(train_L,y_pred_svm))\r\n",
    "print(\"Training Data F1 Score \", f1_score(train_L,y_pred_svm))\r\n",
    "print ('Training Precision:', precision_score(train_L,y_pred_svm))\r\n",
    "print ('Training Recall:', recall_score(train_L,y_pred_svm))\r\n",
    "\r\n",
    "test_pred_svm = SVMm.predict(test_f)\r\n",
    "print(\"Testing Data Set Accuracy: \", accuracy_score(test_L,test_pred_svm))\r\n",
    "print(\"Testing Data F1 Score \", f1_score(test_L,test_pred_svm))\r\n",
    "print ('Testing Precision:', precision_score(test_L,test_pred_svm))\r\n",
    "print ('Testing Recall:', recall_score(test_L,test_pred_svm))\r\n",
    "\r\n",
    "cf_matrix = confusion_matrix(test_L, test_pred_svm)\r\n",
    "sns.heatmap(cf_matrix, annot=True)"
   ],
   "outputs": [
    {
     "output_type": "stream",
     "name": "stdout",
     "text": [
      "Training Data Set Accuracy:  0.6760869565217391\n",
      "Training Data F1 Score  0.8052287581699347\n",
      "Training Precision: 0.6739606126914661\n",
      "Training Recall: 1.0\n",
      "Testing Data Set Accuracy:  0.7402597402597403\n",
      "Testing Data F1 Score  0.849624060150376\n",
      "Testing Precision: 0.743421052631579\n",
      "Testing Recall: 0.9912280701754386\n"
     ]
    },
    {
     "output_type": "execute_result",
     "data": {
      "text/plain": [
       "<AxesSubplot:>"
      ]
     },
     "metadata": {},
     "execution_count": 28
    },
    {
     "output_type": "display_data",
     "data": {
      "image/png": "[encoded data removed]",
      "text/plain": [
       "<Figure size 432x288 with 2 Axes>"
      ]
     },
     "metadata": {
      "needs_background": "light"
     }
    }
   ],
   "metadata": {}
  }
 ],
 "metadata": {
  "orig_nbformat": 4,
  "language_info": {
   "name": "python",
   "version": "3.6.2",
   "mimetype": "text/x-python",
   "codemirror_mode": {
    "name": "ipython",
    "version": 3
   },
   "pygments_lexer": "ipython3",
   "nbconvert_exporter": "python",
   "file_extension": ".py"
  },
  "kernelspec": {
   "name": "python3",
   "display_name": "Python 3.6.2 64-bit ('MACHINE_LEARNING': conda)"
  },
  "interpreter": {
   "hash": "24982b098c13abb5e223c110ea69ffd3c3930b5b0bc1376c2ee132e0b6ba5537"
  }
 },
 "nbformat": 4,
 "nbformat_minor": 2
}